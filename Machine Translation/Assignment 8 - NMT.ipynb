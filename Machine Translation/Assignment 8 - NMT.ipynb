{
 "cells": [
  {
   "cell_type": "markdown",
   "metadata": {
    "id": "vDMOF-H41xp4"
   },
   "source": [
    "# Assignment 8 - NMT Skeleton\n",
    "### Alexandria Benedict 11/28\n",
    "\n",
    "The aim of this homework is to familiarize you with sequence-to-sequence language modeling, specifically using an encoder-decoder model. In this notebook, you are provided with pre-written code for a simple sequence-to-sequence model that already works and learns how to reverse short sequences of numbers.\n",
    "\n",
    "If you run this whole jupyter notebook, it will learn to reverse short sequences of numbers. Although much of this code you will not be modifying, we recommend reading through it to get a sense of how the model and training works.\n",
    "\n",
    "This starter code is based on [this tutorial](https://pytorch.org/tutorials/intermediate/seq2seq_translation_tutorial.html) by Sean Robertson from the PyTorch website and the COMS course at Columbia University by Professor Kathy McKeown. \n",
    "\n",
    "### Overview\n",
    "\n",
    "Your assignment is to:\n",
    " 1. adapt this notebook to work on the English-Italian language pair from Tataoeba website\n",
    " 2. Implement a beam search function\n",
    " \n",
    "\n",
    "Write all your code **in this jupyter notebook**. Cells are provided where you should be implementing your code. \n",
    "\n",
    "You do not need to modify any code to train the model. You may modify the `trainIters` function, if you would like to improve how you track progress, or change parameters while training. For example, it can be useful to decrease the teacher-forcing ratio as training progresses.\n",
    "\n",
    "\n",
    "I would recommend you run this notebook as it is, first. You should be able to run it with the dummy data provided without making ANY modifications (except the cell where the data are loaded). Then, start making your changes as requested.\n",
    "\n"
   ]
  },
  {
   "cell_type": "code",
   "execution_count": 1,
   "metadata": {},
   "outputs": [],
   "source": [
    "#!pip install torchtext "
   ]
  },
  {
   "cell_type": "code",
   "execution_count": 2,
   "metadata": {
    "id": "cQESKYGw1xp6"
   },
   "outputs": [],
   "source": [
    "# You may modify this cell if you like\n",
    "\n",
    "import random\n",
    "import time\n",
    "import pandas as pd\n",
    "import torch\n",
    "import torch.nn as nn\n",
    "from torch import optim\n",
    "import torch.nn.functional as F\n",
    "import torchtext\n",
    "import operator\n",
    "import torch.nn as nn\n",
    "from queue import PriorityQueue"
   ]
  },
  {
   "cell_type": "code",
   "execution_count": 3,
   "metadata": {
    "colab": {
     "base_uri": "https://localhost:8080/"
    },
    "id": "b1F6op_f1xp9",
    "outputId": "e2fcb2c5-e90d-414e-9d2c-aa2d003a048f"
   },
   "outputs": [
    {
     "name": "stderr",
     "output_type": "stream",
     "text": [
      "C:\\Users\\meimei\\anaconda3\\lib\\site-packages\\torch\\cuda\\__init__.py:52: UserWarning: CUDA initialization: The NVIDIA driver on your system is too old (found version 10010). Please update your GPU driver by downloading and installing a new version from the URL: http://www.nvidia.com/Download/index.aspx Alternatively, go to: https://pytorch.org to install a PyTorch version that has been compiled with your version of the CUDA driver. (Triggered internally at  ..\\c10\\cuda\\CUDAFunctions.cpp:100.)\n",
      "  return torch._C._cuda_getDeviceCount() > 0\n"
     ]
    },
    {
     "data": {
      "text/plain": [
       "device(type='cpu')"
      ]
     },
     "execution_count": 3,
     "metadata": {},
     "output_type": "execute_result"
    }
   ],
   "source": [
    "# DO NO MODIFY\n",
    "\n",
    "# this is useful for checking if your code is successfully using the GPU\n",
    "\n",
    "mydevice = torch.device(\"cuda\" if torch.cuda.is_available() else \"cpu\")\n",
    "mydevice"
   ]
  },
  {
   "cell_type": "code",
   "execution_count": 4,
   "metadata": {
    "id": "IbUybDZ91xp_"
   },
   "outputs": [],
   "source": [
    "# DO NOT MODIFY\n",
    "\n",
    "SOS_TOKEN = '<sos>'\n",
    "EOS_TOKEN = '<eos>'\n",
    "\n",
    "MAX_LEN = 50\n",
    "\n",
    "def len_filter(example):\n",
    "    return len(example.src) <= MAX_LEN and len(example.tgt) <= MAX_LEN"
   ]
  },
  {
   "cell_type": "markdown",
   "metadata": {
    "id": "cogsJCg51xqE"
   },
   "source": [
    "### Load dummy number reversal dataset"
   ]
  },
  {
   "cell_type": "code",
   "execution_count": 5,
   "metadata": {
    "colab": {
     "base_uri": "https://localhost:8080/"
    },
    "id": "L3yyYL6esBZo",
    "outputId": "8e39a467-e8bd-466c-cca6-bba406ce648a"
   },
   "outputs": [],
   "source": [
    "#note that my files were stored in google drive and I was using google colab to run this notebook\n",
    "#you can change this cell to provide local path to load your training and dev data\n",
    "\n",
    "# from google.colab import drive\n",
    "# drive.mount('/content/drive')\n",
    "\n",
    "# train_path = '/content/drive/My Drive/COURSES/2020/data/train/data.txt'\n",
    "# dev_path = '/content/drive/My Drive/COURSES/2020/data/dev/data.txt'\n",
    "\n"
   ]
  },
  {
   "cell_type": "markdown",
   "metadata": {
    "id": "p3Z0rO701xqH"
   },
   "source": [
    "### 1. Load the data (10 points)\n",
    "\n",
    "Load in the en-it data from http://www.manythings.org/anki/ita-eng.zip\n",
    "\n",
    " similar to how the dummy number reversal dataset is loaded above. That is, use the same `torchtext.data.Field` and `torchtext.data.TabularDataset` classes."
   ]
  },
  {
   "cell_type": "code",
   "execution_count": 8,
   "metadata": {
    "id": "3zr76n7W1xqI"
   },
   "outputs": [
    {
     "name": "stderr",
     "output_type": "stream",
     "text": [
      "C:\\Users\\meimei\\anaconda3\\lib\\site-packages\\torchtext\\data\\field.py:150: UserWarning: Field class will be retired soon and moved to torchtext.legacy. Please see the most recent release notes for further information.\n",
      "  warnings.warn('{} class will be retired soon and moved to torchtext.legacy. Please see the most recent release notes for further information.'.format(self.__class__.__name__), UserWarning)\n",
      "C:\\Users\\meimei\\anaconda3\\lib\\site-packages\\torchtext\\data\\example.py:68: UserWarning: Example class will be retired soon and moved to torchtext.legacy. Please see the most recent release notes for further information.\n",
      "  warnings.warn('Example class will be retired soon and moved to torchtext.legacy. Please see the most recent release notes for further information.', UserWarning)\n",
      "C:\\Users\\meimei\\anaconda3\\lib\\site-packages\\torchtext\\data\\example.py:78: UserWarning: Example class will be retired soon and moved to torchtext.legacy. Please see the most recent release notes for further information.\n",
      "  warnings.warn('Example class will be retired soon and moved to torchtext.legacy. Please see the most recent release notes for further information.', UserWarning)\n"
     ]
    }
   ],
   "source": [
    "# WRITE YOUR CODE FOR LOADING THE ITALIAN<->ENGLISH DATA HERE\n",
    "#TODO \n",
    "#create 3 TSV files, English|Italian data for train|dev|test, one sentence per line.\n",
    "#you can ignore this cell when you are running the code the first time through on the dummy reversal dataset\n",
    "#HINT: The file is separated by tabs (\\t) - you only need the English and Italian columns\n",
    "#HINT: remove the index when saving to TSV the torchtext Dataloader can confuse the index with the input.\n",
    "# See below for sample output\n",
    "\n",
    "#ita_path = './ita.txt'\n",
    "\n",
    "#df = pd.read_csv(ita_path,sep='\\t',names=['eng','it','etc'])\n",
    "\n",
    "\"\"\"\n",
    "train = df.sample(frac=.60) \n",
    "dev = df.sample(frac=.20)\n",
    "test = df.sample(frac=.20)\n",
    "train.to_csv('train.tsv', sep = '\\t', index=False)\n",
    "dev.to_csv('dev.tsv', sep = '\\t', index=False)\n",
    "test.to_csv('test.tsv', sep = '\\t', index=False)\n",
    "\"\"\"\n",
    "tr_path = './itatrain.txt'\n",
    "tst_path = './itatest.txt'\n",
    "dv_path = './itadev.txt'\n",
    "\n",
    "src = torchtext.data.Field(\n",
    "    batch_first=True, \n",
    "    include_lengths=True\n",
    "    )\n",
    "tgt = torchtext.data.Field(\n",
    "    batch_first=True, \n",
    "    preprocessing = lambda seq: [SOS_TOKEN] + seq + [EOS_TOKEN]\n",
    "    )\n",
    "\n",
    "data_train = torchtext.data.TabularDataset(\n",
    "        path=tr_path, format='tsv',\n",
    "        fields=[('src', src), ('tgt', tgt)],\n",
    "        filter_pred=len_filter\n",
    "    )\n",
    "data_dev = torchtext.data.TabularDataset(\n",
    "        path=dv_path, format='tsv',\n",
    "        fields=[('src', src), ('tgt', tgt)],\n",
    "        filter_pred=len_filter\n",
    "    )\n",
    "data_test = torchtext.data.TabularDataset(\n",
    "        path=tst_path, format='tsv',\n",
    "        fields=[('src', src), ('tgt', tgt)],\n",
    "        filter_pred=len_filter\n",
    "    )\n"
   ]
  },
  {
   "cell_type": "markdown",
   "metadata": {
    "id": "rqisn6dd1xqK"
   },
   "source": [
    "Have a look at the vocab and some example data points.\n",
    "\n",
    "*If you have loaded in the data correctly, the code in the cell below should work without any modification.*"
   ]
  },
  {
   "cell_type": "code",
   "execution_count": 9,
   "metadata": {
    "colab": {
     "base_uri": "https://localhost:8080/"
    },
    "id": "yw7eK-hj1xqL",
    "outputId": "39c054f1-7573-4ad0-c2ee-1d95ed05a81c"
   },
   "outputs": [
    {
     "name": "stdout",
     "output_type": "stream",
     "text": [
      "20 tokens from input vocab:\n",
      " ['<unk>', '<pad>', 'I', 'Tom', 'to', 'you', 'the', 'a', 'is', 'in', \"I'm\", 'was', 'of', 'have', 'You', 'that', 'do', 'be', 'for', 'He']\n",
      "\n",
      "20 tokens from output vocab:\n",
      " ['<unk>', '<pad>', '<eos>', '<sos>', 'Tom', 'di', 'è', 'a', 'non', 'che', 'Io', 'Non', 'un', 'la', 'il', 'ha', 'per', 'in', 'sono', 'una']\n",
      "\n",
      "num training examples: 204930\n",
      "\n",
      "example train data:\n",
      "src:\n",
      " ['Tom', \"isn't\", 'so', 'dependable,', 'is', 'he?']\n",
      "tgt:\n",
      " ['<sos>', 'Tom', 'non', 'è', 'così', 'affidabile,', 'vero?', '<eos>']\n"
     ]
    }
   ],
   "source": [
    "# You may modify this cell if you like\n",
    "# Note the sample output - all words no numbers\n",
    "src.build_vocab(data_train, max_size=50000)\n",
    "tgt.build_vocab(data_train, max_size=50000)\n",
    "input_vocab = src.vocab\n",
    "output_vocab = tgt.vocab\n",
    "\n",
    "print('20 tokens from input vocab:\\n', list(input_vocab.stoi.keys())[:20])\n",
    "print('\\n20 tokens from output vocab:\\n', list(output_vocab.stoi.keys())[:20])\n",
    "\n",
    "print('\\nnum training examples:', len(data_train.examples))\n",
    "\n",
    "item = random.choice(data_train.examples)\n",
    "print('\\nexample train data:')\n",
    "print('src:\\n', item.src)\n",
    "print('tgt:\\n', item.tgt)\n",
    "\n",
    "#showing output below for toy dataset"
   ]
  },
  {
   "cell_type": "markdown",
   "metadata": {
    "id": "R7ZGeEix1xqN"
   },
   "source": [
    "### Model definition and training functions"
   ]
  },
  {
   "cell_type": "code",
   "execution_count": 10,
   "metadata": {
    "id": "IDN_VycQ1xqO"
   },
   "outputs": [],
   "source": [
    "# DO NOT MODIFY\n",
    "\n",
    "class EncoderRNN(nn.Module):\n",
    "    def __init__(self, input_size, hidden_size):\n",
    "        super(EncoderRNN, self).__init__()\n",
    "        self.hidden_size = hidden_size\n",
    "\n",
    "        self.embedding = nn.Embedding(input_size, hidden_size)\n",
    "        self.gru = nn.GRU(hidden_size, hidden_size)\n",
    "\n",
    "    def forward(self, myinput, hidden):\n",
    "        embedded = self.embedding(myinput).view(1, 1, -1)\n",
    "        output = embedded\n",
    "        output, hidden = self.gru(output, hidden)\n",
    "        return output, hidden\n",
    "\n",
    "    def initHidden(self):\n",
    "        return torch.zeros(1, 1, self.hidden_size, device=mydevice)\n",
    "\n",
    "    \n",
    "class DecoderRNN(nn.Module):\n",
    "    def __init__(self, hidden_size, output_size):\n",
    "        super(DecoderRNN, self).__init__()\n",
    "        self.hidden_size = hidden_size\n",
    "\n",
    "        self.embedding = nn.Embedding(output_size, hidden_size)\n",
    "        self.gru = nn.GRU(hidden_size, hidden_size)\n",
    "        self.out = nn.Linear(hidden_size, output_size)\n",
    "        self.softmax = nn.LogSoftmax(dim=1)\n",
    "\n",
    "    def forward(self, input, hidden):\n",
    "        output = self.embedding(input).view(1, 1, -1)\n",
    "        output = F.relu(output)\n",
    "        output, hidden = self.gru(output, hidden)\n",
    "        output = self.softmax(self.out(output[0]))\n",
    "        return output, hidden\n",
    "\n",
    "    def initHidden(self):\n",
    "        return torch.zeros(1, 1, self.hidden_size, device=mydevice)"
   ]
  },
  {
   "cell_type": "code",
   "execution_count": 11,
   "metadata": {
    "id": "aA1Xp8Jb1xqR"
   },
   "outputs": [],
   "source": [
    "# DO NOT MODIFY\n",
    "\n",
    "def train(input_tensor, target_tensor, encoder, decoder, encoder_optimizer, decoder_optimizer, criterion,\n",
    "          max_length=MAX_LEN, teacher_forcing_ratio=0.5):\n",
    "    \n",
    "    # get an initial hidden state for the encoder\n",
    "    encoder_hidden = encoder.initHidden()\n",
    "\n",
    "    # zero the gradients of the optimizers\n",
    "    encoder_optimizer.zero_grad()\n",
    "    decoder_optimizer.zero_grad()\n",
    "\n",
    "    # get the seq lengths, used for iterating through encoder/decoder\n",
    "    input_length = input_tensor.size(0)\n",
    "    target_length = target_tensor.size(0)\n",
    "\n",
    "    # create empty tensor to fill with encoder outputs\n",
    "    encoder_outputs = torch.zeros(max_length, encoder.hidden_size, device=mydevice)\n",
    "\n",
    "    # create a variable for loss\n",
    "    loss = 0\n",
    "    \n",
    "    # pass the inputs through the encoder\n",
    "    for ei in range(input_length):\n",
    "        encoder_output, encoder_hidden = encoder(input_tensor[ei], encoder_hidden)\n",
    "        encoder_outputs[ei] = encoder_output[0, 0]\n",
    "\n",
    "    # create a start-of-sequence tensor for the decoder\n",
    "    decoder_input = torch.tensor([[output_vocab.stoi[SOS_TOKEN]]], device=mydevice)\n",
    "\n",
    "    # set the decoder hidden state to the final encoder hidden state\n",
    "    decoder_hidden = encoder_hidden\n",
    "\n",
    "    # decide if we will use teacher forcing\n",
    "    use_teacher_forcing = True if random.random() < teacher_forcing_ratio else False\n",
    "\n",
    "    for di in range(target_length):\n",
    "        decoder_output, decoder_hidden = decoder(decoder_input, decoder_hidden)\n",
    "        \n",
    "        topv, topi = decoder_output.topk(1)\n",
    "        decoder_input = topi.squeeze().detach()  # detach from history as input\n",
    "                \n",
    "        loss += criterion(decoder_output, target_tensor[di].unsqueeze(0))\n",
    "        \n",
    "        if use_teacher_forcing:\n",
    "            decoder_input = target_tensor[di]\n",
    "        \n",
    "        if decoder_input.item() == output_vocab.stoi[EOS_TOKEN]:\n",
    "                break\n",
    "\n",
    "    loss.backward()\n",
    "\n",
    "    encoder_optimizer.step()\n",
    "    decoder_optimizer.step()\n",
    "\n",
    "    return loss.item() / target_length"
   ]
  },
  {
   "cell_type": "code",
   "execution_count": 12,
   "metadata": {
    "id": "_fvIGMXl1xqT"
   },
   "outputs": [],
   "source": [
    "# You may modify this cell\n",
    "\n",
    "def trainIters(encoder, decoder, n_iters, print_every=1000, learning_rate=0.01, teacher_forcing_ratio=0.5):\n",
    "    print(f'Running {n_iters} epochs...')\n",
    "    print_loss_total = 0\n",
    "    print_loss_epoch = 0\n",
    "\n",
    "    encoder_optim = optim.SGD(encoder.parameters(), lr=learning_rate)\n",
    "    decoder_optim = optim.SGD(decoder.parameters(), lr=learning_rate)\n",
    "\n",
    "    # note batch size of 1, just for simplicity\n",
    "    # DO NOT INCREASE THE BATCH SIZE\n",
    "    batch_iterator = torchtext.data.Iterator(\n",
    "        dataset=data_train, batch_size=1,\n",
    "        sort=False, sort_within_batch=True,\n",
    "        sort_key=lambda x: len(x.src),\n",
    "        device=mydevice, repeat=False)\n",
    "    \n",
    "\n",
    "    criterion = nn.NLLLoss()\n",
    "\n",
    "    for e in range(n_iters):\n",
    "        batch_generator = batch_iterator.__iter__()\n",
    "        step = 0\n",
    "        start = time.time()\n",
    "        for batch in batch_generator:\n",
    "            step += 1\n",
    "            \n",
    "            # get the input and target from the batch iterator\n",
    "            input_tensor, input_lengths = getattr(batch, 'src')\n",
    "            target_tensor = getattr(batch, 'tgt')\n",
    "            \n",
    "            # this is because we're not actually using the batches.\n",
    "            # batch size is 1 and this just selects that first one\n",
    "            input_tensor = input_tensor[0]\n",
    "            target_tensor = target_tensor[0]\n",
    "\n",
    "            loss = train(input_tensor, target_tensor, encoder, decoder, encoder_optim, decoder_optim, criterion, teacher_forcing_ratio=teacher_forcing_ratio)\n",
    "            print_loss_total += loss\n",
    "            print_loss_epoch += loss\n",
    "            \n",
    "\n",
    "            if step % print_every == 0:\n",
    "                print_loss_avg = print_loss_total / print_every\n",
    "                print_loss_total = 0\n",
    "                t = (time.time() - start) / 60\n",
    "                print(f'step: {step}\\t avg loss: {print_loss_avg:.2f}\\t time for {print_every} steps: {t:.2f} min')\n",
    "                start = time.time()\n",
    "        \n",
    "        print_loss_avg = print_loss_epoch / step\n",
    "        print_loss_epoch = 0\n",
    "        print(f'End of epoch {e}, avg loss {print_loss_avg:.2f}')  "
   ]
  },
  {
   "cell_type": "markdown",
   "metadata": {
    "id": "1CYrxT_n1xqV"
   },
   "source": [
    "###  Create and train a model"
   ]
  },
  {
   "cell_type": "markdown",
   "metadata": {},
   "source": [
    "## Download Pre-trained Encoder-Decoder\n",
    "\n",
    "Use the following GDrive links to download a pre-trained Encoder-Decoder models so you don't have to train it yourself:\n",
    "- [Encoder](https://drive.google.com/file/d/1H27fmP9pPwP5N__ESJXOYWZ-ThIV8LBc/view?usp=sharing)\n",
    "- [Decoder](https://drive.google.com/file/d/1-3opHrQzC2zBO9ZaYPkx5F-i_-f1JrmB/view?usp=sharing)\n",
    "\n",
    "These links will give you two files `encoder.pt` and `decoder.pt` you'd want to put them in the same directory is the notebook and run the cell below. This takes away the need for you to wait for a completed training of the model using the complete dataset. The pre-trained model params are:\n",
    "- For both the encoder and decoder `hidden_state` = 128\n",
    "- Encoder `input_size` = 25,030\n",
    "- Decoder `output_size` = 46,754\n",
    "\n",
    "If you want a different hidden_size/on your own dataset split you have to train the model yourself because you won't be able to use the pre-trained model.\n",
    "\n",
    "**Note** - Ensure you have the params above when you instantiate EncoderRNN and DecoderRNN for you to be able to load the params properly.\n"
   ]
  },
  {
   "cell_type": "code",
   "execution_count": 13,
   "metadata": {
    "id": "bOBbHdMM1xqV"
   },
   "outputs": [],
   "source": [
    "# You may modify this cell\n",
    "\n",
    "hidden_size = 128\n",
    "encoder1 = EncoderRNN(25030,hidden_size).to(mydevice)\n",
    "decoder1 = DecoderRNN(hidden_size, 46754).to(mydevice)"
   ]
  },
  {
   "cell_type": "code",
   "execution_count": 14,
   "metadata": {},
   "outputs": [
    {
     "data": {
      "text/plain": [
       "<All keys matched successfully>"
      ]
     },
     "execution_count": 14,
     "metadata": {},
     "output_type": "execute_result"
    }
   ],
   "source": [
    "# Load pre-trained encoder and decoder\n",
    "# Reference: https://pytorch.org/tutorials/beginner/saving_loading_models.html\n",
    "\n",
    "encoder1.load_state_dict(torch.load(str('encoder.pt'),map_location= mydevice))\n",
    "decoder1.load_state_dict(torch.load(str('decoder.pt'),map_location= mydevice))"
   ]
  },
  {
   "cell_type": "markdown",
   "metadata": {
    "id": "fCKVT2Y11xqX"
   },
   "source": [
    "Here are some guidelines for how much training to expect. Note that these *guidelines*; they are not exact.\n",
    "\n",
    "Only 1 epoch is needed for the number reversal dataset. This produces near-perfect results, and should take less than 5 minutes to run on a CPU.\n",
    "\n"
   ]
  },
  {
   "cell_type": "code",
   "execution_count": 15,
   "metadata": {
    "colab": {
     "base_uri": "https://localhost:8080/"
    },
    "id": "TCAZ8hbk1xqY",
    "outputId": "9d040289-4d0a-438e-8eed-1cf561d30bbf"
   },
   "outputs": [],
   "source": [
    "# You may modify this cell\n",
    "# but be sure that it prints some indication of how training is progressing\n",
    "# Training is optional if you load the pre-trained Encoder-Decoder\n",
    "\n",
    "\n",
    "#trainIters(encoder1, decoder1, 1, print_every=1000, teacher_forcing_ratio=0.75)"
   ]
  },
  {
   "cell_type": "code",
   "execution_count": 16,
   "metadata": {
    "id": "m2G_5Uwx1xqg"
   },
   "outputs": [],
   "source": [
    "# DO NOT MODIFY\n",
    "\n",
    "def evaluate(encoder, decoder, sentence, max_length=MAX_LEN):\n",
    "    with torch.no_grad():\n",
    "        input_tensor = torch.tensor([input_vocab.stoi[word] for word in sentence], device=mydevice)\n",
    "        input_length = input_tensor.size()[0]\n",
    "        encoder_hidden = encoder.initHidden()\n",
    "\n",
    "        encoder_outputs = torch.zeros(max_length, encoder.hidden_size, device=mydevice)\n",
    "\n",
    "        for ei in range(input_length):\n",
    "            encoder_output, encoder_hidden = encoder(input_tensor[ei], encoder_hidden)\n",
    "            encoder_outputs[ei] += encoder_output[0, 0]\n",
    "\n",
    "        decoder_input = torch.tensor([[output_vocab.stoi[SOS_TOKEN]]], device=mydevice)\n",
    "\n",
    "        decoder_hidden = encoder_hidden\n",
    "\n",
    "        decoded_words = []\n",
    "\n",
    "        for di in range(max_length):\n",
    "            decoder_output, decoder_hidden = decoder(decoder_input, decoder_hidden)\n",
    "            topv, topi = decoder_output.topk(1)\n",
    "            next_word = output_vocab.itos[topi.item()]\n",
    "            decoded_words.append(next_word)\n",
    "            if next_word == EOS_TOKEN:\n",
    "                break\n",
    "\n",
    "            decoder_input = topi.squeeze().detach()\n",
    "\n",
    "        return decoded_words"
   ]
  },
  {
   "cell_type": "markdown",
   "metadata": {
    "id": "JDG-Sydz1xql"
   },
   "source": [
    "Have a look at some generated sequences! This is the fun part."
   ]
  },
  {
   "cell_type": "code",
   "execution_count": 17,
   "metadata": {
    "colab": {
     "base_uri": "https://localhost:8080/"
    },
    "id": "PWPksDgH1xqm",
    "outputId": "19ab0572-2a2c-4aa7-be91-88fdf1084386"
   },
   "outputs": [
    {
     "name": "stdout",
     "output_type": "stream",
     "text": [
      "['You', 'need', 'to', 'become', 'more', 'active.']\n",
      "<sos> del non Sei a di di <eos>\n",
      "\n",
      "['Are', 'vampires', 'real?']\n",
      "<sos> Voi Questo <eos>\n",
      "\n",
      "[\"That's\", \"Tom's\", 'house', 'with', 'the', 'red', 'roof.']\n",
      "<sos> Io mai mai con un con un <eos>\n",
      "\n",
      "[\"I'm\", 'afraid', 'of', 'heights.']\n",
      "<sos> C'è Ci di <eos>\n",
      "\n",
      "['I', \"won't\", 'tolerate', 'that.']\n",
      "<sos> Lei po' gioca <eos>\n",
      "\n"
     ]
    }
   ],
   "source": [
    "# You may modify this cell\n",
    "# This is to ensure all the steps above were done correctly - should see sensical output\n",
    "# This selects 5 random datapoints from the training data and shows the generated sequence\n",
    "\n",
    "for i in range(5):\n",
    "    item = random.choice(data_train.examples)\n",
    "    seq = item.src\n",
    "    print(seq)\n",
    "    words = evaluate(encoder1, decoder1, seq)\n",
    "    print(' '.join(words))\n",
    "    print()"
   ]
  },
  {
   "cell_type": "markdown",
   "metadata": {
    "id": "J-owLs3W1xqn"
   },
   "source": [
    "### Implement beam search (10 points for ITCS 4111 students, 15 points for the ITCS 5111/DSBA 6010 students)\n",
    "\n",
    "We provide an evaluation function that performs greedy decoding on any input sequence provided. \n",
    "\n",
    "(ITCS 4111 students) You must write a new  function that implements beam search for a beam size = 2. \n",
    "\n",
    "(ITCS 5111/DSBA 6010 students) You must write a new  function that implements beam search for an arbitrary beam size. Let the beam size be an input parameter to your function. \n",
    "\n",
    "In greedy decoding, at each decoding step the most likely word is selected, resulting in one decoded sequence output. \n",
    "\n",
    "In beam search, at each decoding step the top k most\n",
    "likely sequences are selected. Each of these k sequences is then used to generate the next step; the top k next words per sequence are considered (for a total of k ∗ k sequences)\n",
    "and the top k sequences are selected to take to the next decoding step. At the end, you have k decoded sequence outputs.\n"
   ]
  },
  {
   "cell_type": "code",
   "execution_count": 18,
   "metadata": {},
   "outputs": [],
   "source": [
    "# Beam Search Node adapted from: \n",
    "# https://github.com/budzianowski/PyTorch-Beam-Search-Decoding/blob/master/decode_beam.py\n",
    "class BeamSearchNode(object):\n",
    "    def __init__(self, hiddenstate, previousNode, wordId, logProb, length):\n",
    "        '''\n",
    "        :param hiddenstate:\n",
    "        :param previousNode:\n",
    "        :param wordId:\n",
    "        :param logProb:\n",
    "        :param length:\n",
    "        '''\n",
    "        self.h = hiddenstate\n",
    "        self.prevNode = previousNode\n",
    "        self.wordid = wordId\n",
    "        self.logp = logProb\n",
    "        self.leng = length\n",
    "\n",
    "    def eval(self, alpha=1.0):\n",
    "        reward = 0\n",
    "        # Add here a function for shaping a reward\n",
    "\n",
    "        return self.logp / float(self.leng - 1 + 1e-6) + alpha * reward"
   ]
  },
  {
   "cell_type": "code",
   "execution_count": 19,
   "metadata": {
    "id": "RM53b6XE1xqo"
   },
   "outputs": [],
   "source": [
    "# WRITE YOUR CODE FOR THE BEAM SEARCH HERE\n",
    "\n",
    "\n",
    "#there are several implementation of beam search on the web. You can adapt those for this assignment. \n",
    "#Please provide proper credit to the original source if you are doing so\n",
    "#one example is here: https://github.com/budzianowski/PyTorch-Beam-Search-Decoding/blob/master/decode_beam.py\n",
    "\n",
    "\n",
    "#you may need to add a helper function to see if your implementation of beam search works\n",
    "#add that helper function below\n",
    "\n",
    "# HINT: https://torchtext.readthedocs.io/en/latest/vocab.html - use to translate word to numbers and numbers to words\n",
    "\n",
    "def beam_decode(decoder_hidden,beam_width=2):\n",
    "    '''\n",
    "    :param target_tensor: target indexes tensor of shape [B, T] where B is the batch size and T is the maximum length of the output sentence\n",
    "    :param decoder_hidden: input tensor of shape [1, B, H] for start of the decoding\n",
    "    :param encoder_outputs: if you are using attention mechanism you can pass encoder outputs, [T, B, H] where T is the maximum length of input sentence\n",
    "    :return: decoded_batch\n",
    "    '''\n",
    "\n",
    "    topk = 1  # how many sentence do you want to generate\n",
    "\n",
    "    # decoding goes sentence by sentence\n",
    "\n",
    "    # TODO: define decoder input as a 2D tensor for the SOS_TOKEN\n",
    "    decoder_input = torch.tensor([[output_vocab.stoi[SOS_TOKEN]]], device=mydevice)\n",
    "\n",
    "    # Number of sentence to generate\n",
    "    endnodes = []\n",
    "    number_required = min((topk + 1), topk - len(endnodes))\n",
    "\n",
    "    # starting node -  hidden vector, previous node, word id, logp, length\n",
    "    node = BeamSearchNode(decoder_hidden, None, decoder_input, 0, 1)\n",
    "    nodes = PriorityQueue()\n",
    "\n",
    "    # start the queue\n",
    "    nodes.put((-node.eval(), node))\n",
    "    qsize = 1\n",
    "\n",
    "    # start beam search\n",
    "    while True:\n",
    "        # give up when decoding takes too long\n",
    "        if qsize > 2000: break\n",
    "\n",
    "        # fetch the best node\n",
    "        score, n = nodes.get()\n",
    "        decoder_input = n.wordid\n",
    "        decoder_hidden = n.h\n",
    "        \n",
    "        # TODO: if the current node is an EOS_TOKEN and previousNode is not empty\n",
    "        if n.wordid.item() == EOS_TOKEN and n.prevNode != None:\n",
    "            endnodes.append((score, n))\n",
    "            # if we reached maximum # of sentences required\n",
    "            if len(endnodes) >= number_required:\n",
    "                break\n",
    "            else:\n",
    "                continue\n",
    "\n",
    "        #TODO: use the trained decoder (decoder1) to decode using the input (starting with SOS) \n",
    "        # and decoder_hidden to get the decoder output and the decoder hidden weights for the new input.\n",
    "        decoder_output, decoder_hidden = decoder1(decoder_input, decoder_hidden)\n",
    "\n",
    "        # PUT HERE REAL BEAM SEARCH OF TOP\n",
    "        # HINT Reference: https://pytorch.org/docs/stable/generated/torch.topk.html\n",
    "        #TODO: get get the top [beam size] most likely decoder_outputs and store their probabilities and indexes\n",
    "        log_prob, indexes = torch.topk(decoder_output, beam_width)\n",
    "        \n",
    "        nextnodes = []\n",
    "\n",
    "        for new_k in range(beam_width):\n",
    "            decoded_t = indexes[0][new_k].view(1, -1)\n",
    "            log_p = log_prob[0][new_k].item()\n",
    "\n",
    "            node = BeamSearchNode(decoder_hidden, n, decoded_t, n.logp + log_p, n.leng + 1)\n",
    "            score = -node.eval()\n",
    "            nextnodes.append((score, node))\n",
    "\n",
    "        # put them into queue\n",
    "        for i in range(len(nextnodes)):\n",
    "            score, nn = nextnodes[i]\n",
    "            nodes.put((score, nn))\n",
    "            # increase qsize\n",
    "        qsize += len(nextnodes) - 1\n",
    "\n",
    "    # choose nbest paths, back trace them\n",
    "    if len(endnodes) == 0:\n",
    "        endnodes = [nodes.get() for _ in range(topk)]\n",
    "\n",
    "    for score, n in sorted(endnodes, key=operator.itemgetter(0)):\n",
    "        utterance = []\n",
    "        #TODO: convert the node id to a word\n",
    "        word = output_vocab.itos[n.wordid.item()]\n",
    "        #TODO: store decoded word in utterance\n",
    "        utterance.append(word)\n",
    "        # back trace\n",
    "        while n.prevNode != None:\n",
    "            #TODO: get previous node\n",
    "            n = n.prevNode\n",
    "            #TODO convert node id to word\n",
    "            # store decoded word in utterance\n",
    "            utterance.append(output_vocab.itos[n.wordid.item()])\n",
    "\n",
    "\n",
    "    return utterance\n",
    "\n",
    "\n"
   ]
  },
  {
   "cell_type": "code",
   "execution_count": 26,
   "metadata": {},
   "outputs": [],
   "source": [
    "# HINT: Refer to the evaluate function to preprocess and encode the input sentence \n",
    "# and to prepare for the decoding process\n",
    "def decoder_helper(encoder,decoder,sentence,max_length=MAX_LEN,beam_width = 2):\n",
    "    \n",
    "    # TODO: Disable autograd through the whole method - we are only computing outputs and not updating weights.\n",
    "            # Recall the PyTorch tutorial video.\n",
    "    # TODO: Create an input tensor containing the id's for each word in the sentence argument\n",
    "    # TODO: Initialize the encoder hidden layer\n",
    "    # TODO: Store the number of words in the variable input_length\n",
    "    # TODO: Loop through all the input words and encode them using the trained encoder\n",
    "    # TODO: After the loop is over pass on the hidden weights from the encoder to the decoder\n",
    "    with torch.no_grad():\n",
    "        input_tensor = torch.tensor([input_vocab.stoi[word] for word in sentence], device=mydevice)\n",
    "        encoder_hidden = encoder.initHidden()\n",
    "        input_length = input_tensor.size()[0]\n",
    "        encoder_outputs = torch.zeros(max_length, encoder.hidden_size, device=mydevice)\n",
    "        for ei in range(input_length):\n",
    "            encoder_output, encoder_hidden = encoder(input_tensor[ei], encoder_hidden)\n",
    "            encoder_outputs[ei] += encoder_output[0, 0]\n",
    "            decoder_hidden = encoder_hidden\n",
    "\n",
    "    return beam_decode(decoder_hidden,beam_width)\n",
    "    "
   ]
  },
  {
   "cell_type": "code",
   "execution_count": 27,
   "metadata": {
    "scrolled": true
   },
   "outputs": [
    {
     "name": "stdout",
     "output_type": "stream",
     "text": [
      "Source Sentence: This is fun.\n",
      "Predicted Sentence: sta Avete\n",
      "Target Sentence: <sos> Questo è divertente. <eos>\n",
      "\n",
      "Source Sentence: I was tempted.\n",
      "Predicted Sentence: sono Lei\n",
      "Target Sentence: <sos> Ero tentata. <eos>\n",
      "\n",
      "Source Sentence: I went to the market.\n",
      "Predicted Sentence: un da andata Io\n",
      "Target Sentence: <sos> Io andai al mercato. <eos>\n",
      "\n",
      "Source Sentence: This is Chinese food.\n",
      "Predicted Sentence: ritardo. sta Avete\n",
      "Target Sentence: <sos> Questo è cibo cinese. <eos>\n",
      "\n",
      "Source Sentence: I came to Tokyo to attend a conference.\n",
      "Predicted Sentence: la a a caffè. Ho\n",
      "Target Sentence: <sos> Sono venuto a Tokyo per partecipare a una conferenza. <eos>\n",
      "\n",
      "Source Sentence: She thinks of her boss as a father.\n",
      "Predicted Sentence: di di di è si Sono\n",
      "Target Sentence: <sos> Lei considera il suo capo come un padre. <eos>\n",
      "\n",
      "Source Sentence: Tom nervously handed Mary the knife.\n",
      "Predicted Sentence: un mai è si Tom\n",
      "Target Sentence: <sos> Tom passò nervosamente il coltello a Mary. <eos>\n",
      "\n",
      "Source Sentence: Who are you laughing at?\n",
      "Predicted Sentence: ha mi che quello di Potete Mi\n",
      "Target Sentence: <sos> Di chi sta ridendo? <eos>\n",
      "\n",
      "Source Sentence: Are you going to attend the meeting?\n",
      "Predicted Sentence: un un sei del\n",
      "Target Sentence: <sos> Parteciperà alla riunione? <eos>\n",
      "\n",
      "Source Sentence: I owe him a great deal because he saved my life.\n",
      "Predicted Sentence: il la di di mio ho dalla\n",
      "Target Sentence: <sos> Gli devo molto perché mi ha salvato la vita. <eos>\n",
      "\n"
     ]
    }
   ],
   "source": [
    "# You may modify this cell\n",
    "\n",
    "# This selects 10 random datapoints from the training data and shows the generated sequence\n",
    "\n",
    "for i in range(10):\n",
    "    item = random.choice(data_train.examples)\n",
    "    seq = item.src\n",
    "    tg = item.tgt\n",
    "    print(f\"Source Sentence: {' '.join(seq)}\")\n",
    "    words = decoder_helper(encoder1,decoder1,seq,beam_width = 2)\n",
    "    print(f\"Predicted Sentence: {' '.join([w for w in words if w not in [SOS_TOKEN,EOS_TOKEN]])}\")\n",
    "    print(f\"Target Sentence: {' '.join(tg)}\")\n",
    "    print()"
   ]
  }
 ],
 "metadata": {
  "colab": {
   "name": "nmt_assignment_NLP.ipynb",
   "provenance": []
  },
  "kernelspec": {
   "display_name": "Python 3",
   "language": "python",
   "name": "python3"
  },
  "language_info": {
   "codemirror_mode": {
    "name": "ipython",
    "version": 3
   },
   "file_extension": ".py",
   "mimetype": "text/x-python",
   "name": "python",
   "nbconvert_exporter": "python",
   "pygments_lexer": "ipython3",
   "version": "3.8.3"
  }
 },
 "nbformat": 4,
 "nbformat_minor": 1
}

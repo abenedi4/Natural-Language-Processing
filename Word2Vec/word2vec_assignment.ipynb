{
 "cells": [
  {
   "cell_type": "markdown",
   "metadata": {
    "id": "vWkdETcUmg2z"
   },
   "source": [
    "# Word2Vec Assignment\n",
    "Alexandria Benedict 11/7"
   ]
  },
  {
   "cell_type": "code",
   "execution_count": 6,
   "metadata": {
    "id": "si02RhGEmg21"
   },
   "outputs": [],
   "source": [
    "import gensim\n",
    "from gensim.models.word2vec import Word2Vec\n",
    "from sklearn.manifold import TSNE\n",
    "import re\n",
    "import matplotlib\n",
    "import pandas as pd"
   ]
  },
  {
   "cell_type": "code",
   "execution_count": 2,
   "metadata": {
    "id": "wGjg8cdnmg24"
   },
   "outputs": [],
   "source": [
    "matplotlib.use(\"TkAgg\")"
   ]
  },
  {
   "cell_type": "code",
   "execution_count": 3,
   "metadata": {
    "id": "EIY1BnCdmg27"
   },
   "outputs": [],
   "source": [
    "import matplotlib.pyplot as plt\n",
    "%matplotlib inline"
   ]
  },
  {
   "cell_type": "markdown",
   "metadata": {
    "id": "YKIQMKbSmg29"
   },
   "source": [
    "# Question 1"
   ]
  },
  {
   "cell_type": "code",
   "execution_count": 7,
   "metadata": {
    "id": "t1wyuBoqmg3C"
   },
   "outputs": [],
   "source": [
    "df1 = pd.read_csv('CONcreTEXT_trial_EN.tsv', sep='\\t', header=None, engine= 'python')\n",
    "df2 = pd.read_csv('CONcreTEXT_trial_IT.tsv', sep='\\t', header=None, engine= 'python')"
   ]
  },
  {
   "cell_type": "markdown",
   "metadata": {
    "id": "09cnRhuNmg3F"
   },
   "source": [
    "### Remove the stopwords"
   ]
  },
  {
   "cell_type": "code",
   "execution_count": 26,
   "metadata": {
    "id": "GR62F4z4mg3F"
   },
   "outputs": [],
   "source": [
    "engSent = list(df1[3][1:])\n",
    "#print(engSent)"
   ]
  },
  {
   "cell_type": "code",
   "execution_count": 27,
   "metadata": {
    "id": "9o3sUCDZmg3K"
   },
   "outputs": [],
   "source": [
    "stop_words = []\n",
    "\n",
    "stop_words_temp = map(lambda x : re.sub('\\n','',x),engSent)\n",
    "stop_words = map(lambda x:  re.sub('[^A-Za-z0-9]+', '',x), stop_words_temp)\n"
   ]
  },
  {
   "cell_type": "code",
   "execution_count": 28,
   "metadata": {
    "colab": {
     "base_uri": "https://localhost:8080/",
     "height": 34
    },
    "id": "6kLFf427mg3M",
    "outputId": "22f61766-1689-499d-af17-63d5d93f21a8"
   },
   "outputs": [
    {
     "data": {
      "text/plain": [
       "<map at 0x1a22cefc50>"
      ]
     },
     "execution_count": 28,
     "metadata": {},
     "output_type": "execute_result"
    }
   ],
   "source": [
    "stop_words"
   ]
  },
  {
   "cell_type": "code",
   "execution_count": 29,
   "metadata": {
    "colab": {
     "base_uri": "https://localhost:8080/",
     "height": 34
    },
    "id": "cD3fOO4bmg3O",
    "outputId": "b7c2be4a-0cbf-45bd-d1f8-fc9d167c46ad"
   },
   "outputs": [
    {
     "data": {
      "text/plain": [
       "map"
      ]
     },
     "execution_count": 29,
     "metadata": {},
     "output_type": "execute_result"
    }
   ],
   "source": [
    "type(stop_words)"
   ]
  },
  {
   "cell_type": "code",
   "execution_count": 30,
   "metadata": {
    "id": "13tuHhJDmg3Q"
   },
   "outputs": [],
   "source": [
    "def clean(word):\n",
    "    word = word.strip()\n",
    "    word = word.lower()\n",
    "    word = re.sub('[^A-Za-z0-9]+', '', word)\n",
    "    if word not in stop_words:\n",
    "        return word\n",
    "    else:\n",
    "        return ''"
   ]
  },
  {
   "cell_type": "code",
   "execution_count": 16,
   "metadata": {
    "id": "z1YMBzFhmg3W"
   },
   "outputs": [],
   "source": [
    "line_count = 0\n",
    "sentences = []\n",
    "        \n",
    "\n",
    "for line in engSent:\n",
    "    if line is not None or line != '\\n':\n",
    "        words = line.split()\n",
    "        words = map(lambda x: clean(x), words)\n",
    "        words = list(filter(lambda x:True if len(x) > 0 else False, words))\n",
    "        sentences.append(words)\n",
    "\n",
    "\n",
    "\n",
    "for line in engSent:\n",
    "    if line is not None or line != '\\n':\n",
    "        words = line.split()\n",
    "        words = map(lambda x: clean(x), words)\n",
    "        words = list(filter(lambda x:True if len(x) > 0 else False, words))\n",
    "        sentences.append(words)"
   ]
  },
  {
   "cell_type": "code",
   "execution_count": 17,
   "metadata": {
    "colab": {
     "base_uri": "https://localhost:8080/",
     "height": 34
    },
    "id": "7w0zppuUmg3Z",
    "outputId": "e1295e3c-9f47-408f-8ce9-617b2f660865"
   },
   "outputs": [
    {
     "data": {
      "text/plain": [
       "list"
      ]
     },
     "execution_count": 17,
     "metadata": {},
     "output_type": "execute_result"
    }
   ],
   "source": [
    "type(sentences)"
   ]
  },
  {
   "cell_type": "code",
   "execution_count": 18,
   "metadata": {
    "colab": {
     "base_uri": "https://localhost:8080/",
     "height": 187
    },
    "id": "_SHagE6WotDb",
    "outputId": "29f0c27c-7429-436f-9bbc-7ee5a01e3b88"
   },
   "outputs": [
    {
     "data": {
      "text/plain": [
       "[['bring',\n",
       "  'up',\n",
       "  'academic',\n",
       "  'achievements',\n",
       "  'awards',\n",
       "  'and',\n",
       "  'other',\n",
       "  'milestones',\n",
       "  'in',\n",
       "  'your',\n",
       "  'life'],\n",
       " ['please',\n",
       "  'list',\n",
       "  'people',\n",
       "  'you',\n",
       "  'have',\n",
       "  'helped',\n",
       "  'your',\n",
       "  'personal',\n",
       "  'achievements',\n",
       "  'or',\n",
       "  'troublesome',\n",
       "  'times',\n",
       "  'you',\n",
       "  'have',\n",
       "  'overcome']]"
      ]
     },
     "execution_count": 18,
     "metadata": {},
     "output_type": "execute_result"
    }
   ],
   "source": [
    "sentences[100:102]"
   ]
  },
  {
   "cell_type": "markdown",
   "metadata": {
    "id": "HxM-H08cmg3b"
   },
   "source": [
    "## Word2Vec model"
   ]
  },
  {
   "cell_type": "code",
   "execution_count": 19,
   "metadata": {
    "id": "7pcmrm4xmg3c"
   },
   "outputs": [],
   "source": [
    "model = Word2Vec(sentences, window=5, size=500, workers=4, min_count=5)"
   ]
  },
  {
   "cell_type": "code",
   "execution_count": 20,
   "metadata": {
    "colab": {
     "base_uri": "https://localhost:8080/",
     "height": 1000
    },
    "id": "HpGCRQopmg3d",
    "outputId": "18d7802b-4a89-44f0-b8bf-7f12706e85e5",
    "scrolled": true
   },
   "outputs": [
    {
     "data": {
      "text/plain": [
       "{'and': <gensim.models.keyedvectors.Vocab at 0x1a2293e198>,\n",
       " 'other': <gensim.models.keyedvectors.Vocab at 0x1a2293ef60>,\n",
       " 'in': <gensim.models.keyedvectors.Vocab at 0x1a2293eef0>,\n",
       " 'your': <gensim.models.keyedvectors.Vocab at 0x1a22956198>,\n",
       " 'life': <gensim.models.keyedvectors.Vocab at 0x1a229560b8>,\n",
       " 'people': <gensim.models.keyedvectors.Vocab at 0x1a22956080>,\n",
       " 'you': <gensim.models.keyedvectors.Vocab at 0x1a229561d0>,\n",
       " 'have': <gensim.models.keyedvectors.Vocab at 0x1a229567f0>,\n",
       " 'or': <gensim.models.keyedvectors.Vocab at 0x1a22956128>,\n",
       " 'carbon': <gensim.models.keyedvectors.Vocab at 0x1a22956470>,\n",
       " 'to': <gensim.models.keyedvectors.Vocab at 0x1a229564e0>,\n",
       " 'when': <gensim.models.keyedvectors.Vocab at 0x1a22956550>,\n",
       " 'a': <gensim.models.keyedvectors.Vocab at 0x1a229564a8>,\n",
       " 'the': <gensim.models.keyedvectors.Vocab at 0x1a229565f8>,\n",
       " 'for': <gensim.models.keyedvectors.Vocab at 0x1a22956710>,\n",
       " 'that': <gensim.models.keyedvectors.Vocab at 0x1a22956780>,\n",
       " 'of': <gensim.models.keyedvectors.Vocab at 0x1a229566a0>,\n",
       " 'could': <gensim.models.keyedvectors.Vocab at 0x1a229567b8>,\n",
       " 'work': <gensim.models.keyedvectors.Vocab at 0x1a22956748>,\n",
       " 'if': <gensim.models.keyedvectors.Vocab at 0x1a229565c0>,\n",
       " 're': <gensim.models.keyedvectors.Vocab at 0x1a229566d8>,\n",
       " 'on': <gensim.models.keyedvectors.Vocab at 0x1a22956630>,\n",
       " 'they': <gensim.models.keyedvectors.Vocab at 0x1a22956518>,\n",
       " 'll': <gensim.models.keyedvectors.Vocab at 0x1a22956668>,\n",
       " 'from': <gensim.models.keyedvectors.Vocab at 0x1a22956048>,\n",
       " 'away': <gensim.models.keyedvectors.Vocab at 0x1a22956588>,\n",
       " 'out': <gensim.models.keyedvectors.Vocab at 0x1a229560f0>,\n",
       " 'until': <gensim.models.keyedvectors.Vocab at 0x1a229562b0>,\n",
       " 'are': <gensim.models.keyedvectors.Vocab at 0x1a22956160>,\n",
       " 'can': <gensim.models.keyedvectors.Vocab at 0x1a22956208>,\n",
       " 'help': <gensim.models.keyedvectors.Vocab at 0x1a22956860>,\n",
       " 'feel': <gensim.models.keyedvectors.Vocab at 0x1a229568d0>,\n",
       " 'more': <gensim.models.keyedvectors.Vocab at 0x1a22956940>,\n",
       " 'take': <gensim.models.keyedvectors.Vocab at 0x1a229569e8>,\n",
       " 'an': <gensim.models.keyedvectors.Vocab at 0x1a22956b70>,\n",
       " 'should': <gensim.models.keyedvectors.Vocab at 0x1a22956b38>,\n",
       " 'any': <gensim.models.keyedvectors.Vocab at 0x1a22956a20>,\n",
       " 'car': <gensim.models.keyedvectors.Vocab at 0x1a22956b00>,\n",
       " 'with': <gensim.models.keyedvectors.Vocab at 0x1a22956a58>,\n",
       " 'as': <gensim.models.keyedvectors.Vocab at 0x1a22956ac8>,\n",
       " 'their': <gensim.models.keyedvectors.Vocab at 0x1a22956a90>,\n",
       " 'talk': <gensim.models.keyedvectors.Vocab at 0x1a22956978>,\n",
       " 'about': <gensim.models.keyedvectors.Vocab at 0x1a229569b0>,\n",
       " 'child': <gensim.models.keyedvectors.Vocab at 0x1a22956ba8>,\n",
       " 'is': <gensim.models.keyedvectors.Vocab at 0x1a22956908>,\n",
       " 'too': <gensim.models.keyedvectors.Vocab at 0x1a22956898>,\n",
       " 'better': <gensim.models.keyedvectors.Vocab at 0x1a22956828>,\n",
       " 'hand': <gensim.models.keyedvectors.Vocab at 0x1a22956be0>,\n",
       " 've': <gensim.models.keyedvectors.Vocab at 0x1a22956c18>,\n",
       " 'need': <gensim.models.keyedvectors.Vocab at 0x1a22956cc0>,\n",
       " 'them': <gensim.models.keyedvectors.Vocab at 0x1a22956c50>,\n",
       " 'will': <gensim.models.keyedvectors.Vocab at 0x1a22956c88>,\n",
       " 'destroy': <gensim.models.keyedvectors.Vocab at 0x1a229562e8>,\n",
       " 'be': <gensim.models.keyedvectors.Vocab at 0x1a22956320>,\n",
       " 'by': <gensim.models.keyedvectors.Vocab at 0x1a22956390>,\n",
       " 'few': <gensim.models.keyedvectors.Vocab at 0x1a22956358>,\n",
       " 'many': <gensim.models.keyedvectors.Vocab at 0x1a229563c8>,\n",
       " 's': <gensim.models.keyedvectors.Vocab at 0x1a22956438>,\n",
       " 'do': <gensim.models.keyedvectors.Vocab at 0x1a22956400>,\n",
       " 'nt': <gensim.models.keyedvectors.Vocab at 0x1a22956278>,\n",
       " 'large': <gensim.models.keyedvectors.Vocab at 0x1a22956240>,\n",
       " 'field': <gensim.models.keyedvectors.Vocab at 0x1a22956d68>,\n",
       " 'there': <gensim.models.keyedvectors.Vocab at 0x1a22956cf8>,\n",
       " 'time': <gensim.models.keyedvectors.Vocab at 0x1a22956d30>,\n",
       " 'game': <gensim.models.keyedvectors.Vocab at 0x1a2297bc50>,\n",
       " 'just': <gensim.models.keyedvectors.Vocab at 0x1a22965e80>,\n",
       " 'want': <gensim.models.keyedvectors.Vocab at 0x1a22984d30>,\n",
       " 'head': <gensim.models.keyedvectors.Vocab at 0x1a22983198>,\n",
       " 'it': <gensim.models.keyedvectors.Vocab at 0x1a2297ceb8>,\n",
       " 'has': <gensim.models.keyedvectors.Vocab at 0x1a229889b0>,\n",
       " 'not': <gensim.models.keyedvectors.Vocab at 0x1a22988b38>,\n",
       " 'interest': <gensim.models.keyedvectors.Vocab at 0x1a2297fc88>,\n",
       " 'much': <gensim.models.keyedvectors.Vocab at 0x1a22985dd8>,\n",
       " 'each': <gensim.models.keyedvectors.Vocab at 0x1a22985ef0>,\n",
       " 'office': <gensim.models.keyedvectors.Vocab at 0x1a22986da0>,\n",
       " 'part': <gensim.models.keyedvectors.Vocab at 0x1a22986ac8>,\n",
       " 'person': <gensim.models.keyedvectors.Vocab at 0x1a22986d68>}"
      ]
     },
     "execution_count": 20,
     "metadata": {},
     "output_type": "execute_result"
    }
   ],
   "source": [
    "model.wv.vocab"
   ]
  },
  {
   "cell_type": "code",
   "execution_count": 21,
   "metadata": {
    "colab": {
     "base_uri": "https://localhost:8080/",
     "height": 71
    },
    "id": "N_RDcQUCmg3f",
    "outputId": "a62fee6f-e1b5-4705-c8fb-6db15ab4ed8a",
    "scrolled": true
   },
   "outputs": [
    {
     "name": "stderr",
     "output_type": "stream",
     "text": [
      "/Users/uhaldar/anaconda3/lib/python3.7/site-packages/ipykernel_launcher.py:5: DeprecationWarning: Call to deprecated `__getitem__` (Method will be removed in 4.0.0, use self.wv.__getitem__() instead).\n",
      "  \"\"\"\n"
     ]
    }
   ],
   "source": [
    "labels = []\n",
    "tokens = []\n",
    "\n",
    "for word in model.wv.vocab:\n",
    "    tokens.append(model[word])\n",
    "    labels.append(word)\n",
    "    \n"
   ]
  },
  {
   "cell_type": "markdown",
   "metadata": {
    "id": "mtYn484wmg3i"
   },
   "source": [
    "### TSNE plot to find the similarity of words"
   ]
  },
  {
   "cell_type": "code",
   "execution_count": 22,
   "metadata": {
    "id": "tThhd_NTmg3i"
   },
   "outputs": [],
   "source": [
    "tsne_model = TSNE(perplexity=250, n_components=2, init='pca', n_iter=250)"
   ]
  },
  {
   "cell_type": "code",
   "execution_count": 23,
   "metadata": {
    "id": "LUlCRcX7mg3k"
   },
   "outputs": [],
   "source": [
    "new_values = tsne_model.fit_transform(tokens)"
   ]
  },
  {
   "cell_type": "code",
   "execution_count": 24,
   "metadata": {
    "id": "P653xevumg3l"
   },
   "outputs": [],
   "source": [
    "x = []\n",
    "y = []\n",
    "for value in new_values:\n",
    "    x.append(value[0])\n",
    "    y.append(value[1])\n",
    "  "
   ]
  },
  {
   "cell_type": "code",
   "execution_count": 25,
   "metadata": {
    "colab": {
     "base_uri": "https://localhost:8080/",
     "height": 750
    },
    "id": "SUdI8yF-mg3n",
    "outputId": "401ce778-6f69-44be-de4d-b1e3ecb3fbe0",
    "scrolled": false
   },
   "outputs": [
    {
     "data": {
      "image/png": "[encoded data removed]",
      "text/plain": [
       "<Figure size 1152x1152 with 1 Axes>"
      ]
     },
     "metadata": {
      "needs_background": "light"
     },
     "output_type": "display_data"
    }
   ],
   "source": [
    "plt.figure(figsize=(16, 16)) \n",
    "for i in range(len(x)):\n",
    "  plt.scatter(x[i],y[i])\n",
    "  plt.annotate(labels[i],\n",
    "  xy=(x[i], y[i]),\n",
    "  xytext=(5, 2),\n",
    "  textcoords='offset points',\n",
    "  ha='right',\n",
    "  va='bottom')"
   ]
  },
  {
   "cell_type": "code",
   "execution_count": 34,
   "metadata": {
    "id": "0EgJGX9cmg3z"
   },
   "outputs": [
    {
     "name": "stderr",
     "output_type": "stream",
     "text": [
      "/Users/uhaldar/anaconda3/lib/python3.7/site-packages/ipykernel_launcher.py:1: DeprecationWarning: Call to deprecated `most_similar` (Method will be removed in 4.0.0, use self.wv.most_similar() instead).\n",
      "  \"\"\"Entry point for launching an IPython kernel.\n"
     ]
    },
    {
     "data": {
      "text/plain": [
       "[('or', 0.1224995031952858),\n",
       " ('with', 0.11964101344347),\n",
       " ('few', 0.11849404871463776),\n",
       " ('to', 0.11637897044420242),\n",
       " ('ve', 0.11237978935241699),\n",
       " ('you', 0.10825229436159134),\n",
       " ('when', 0.10768623650074005),\n",
       " ('the', 0.09886939823627472),\n",
       " ('about', 0.0965258851647377),\n",
       " ('on', 0.09424860775470734)]"
      ]
     },
     "execution_count": 34,
     "metadata": {},
     "output_type": "execute_result"
    }
   ],
   "source": [
    "model.most_similar(positive=['person','child'])"
   ]
  },
  {
   "cell_type": "code",
   "execution_count": 37,
   "metadata": {},
   "outputs": [
    {
     "name": "stderr",
     "output_type": "stream",
     "text": [
      "/Users/uhaldar/anaconda3/lib/python3.7/site-packages/ipykernel_launcher.py:1: DeprecationWarning: Call to deprecated `doesnt_match` (Method will be removed in 4.0.0, use self.wv.doesnt_match() instead).\n",
      "  \"\"\"Entry point for launching an IPython kernel.\n"
     ]
    },
    {
     "data": {
      "text/plain": [
       "'any'"
      ]
     },
     "execution_count": 37,
     "metadata": {},
     "output_type": "execute_result"
    }
   ],
   "source": [
    "model.doesnt_match(\"field person any until people\".split())"
   ]
  },
  {
   "cell_type": "markdown",
   "metadata": {},
   "source": [
    "# Question 2\n",
    "I think that the quality of the embeddings could be better. For some of the tests, it doesn't seem to be making correct judgements; for example, when running the doesnt_match method. According to the plot, the words 'person', 'any', 'until', and 'people' are all very close together in a cluster, and 'field' is not. In this list of words, it judges that the word 'any' does not belong the most in this list. Another example is when testing the most_similar method to show which words are closest to 'person' and 'child', it returns a list of words which do not have similar meanings. I chose those two words expecting the model to return 'people', but it did not."
   ]
  },
  {
   "cell_type": "markdown",
   "metadata": {},
   "source": [
    "# Question 3\n",
    "Subsampling Frequent Words is important in this example because it would allow us to remove frequent words which are unneeded. Words like this would be 'the', 'or', 'to', and so on. This is important for our model because these frequent words would have the highest frequencies and make it harder for us to find actual similar words to nouns such as 'person' and 'child' (such as in the code snippet above). Negative sampling is also important for our model because for ever training sample, all the weights on the neural network would be modified slightly. Negative sampling instead only chooses a small percentage of the samples and modifying those weights, therefore making it so larger vocabulary sizes will be less effected on a large scale."
   ]
  },
  {
   "cell_type": "code",
   "execution_count": null,
   "metadata": {},
   "outputs": [],
   "source": []
  }
 ],
 "metadata": {
  "anaconda-cloud": {},
  "colab": {
   "name": "word2vec_assignment_assist.ipynb",
   "provenance": []
  },
  "kernelspec": {
   "display_name": "Python 3",
   "language": "python",
   "name": "python3"
  },
  "language_info": {
   "codemirror_mode": {
    "name": "ipython",
    "version": 3
   },
   "file_extension": ".py",
   "mimetype": "text/x-python",
   "name": "python",
   "nbconvert_exporter": "python",
   "pygments_lexer": "ipython3",
   "version": "3.7.3"
  }
 },
 "nbformat": 4,
 "nbformat_minor": 1
}

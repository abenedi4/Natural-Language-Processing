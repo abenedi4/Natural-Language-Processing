{
 "cells": [
  {
   "cell_type": "code",
   "execution_count": 27,
   "metadata": {},
   "outputs": [],
   "source": [
    "#Alexandria Benedict, Assignment 4\n",
    "\n",
    "from random import random\n",
    "import nltk\n",
    "import matplotlib.pyplot as plt\n",
    "from nltk.probability import FreqDist\n",
    "import pandas as pd\n",
    "from math import log\n",
    "from sklearn.model_selection import train_test_split\n",
    "from collections import *\n",
    "from sklearn.metrics import accuracy_score\n",
    "from sklearn.feature_extraction.text import CountVectorizer\n",
    "from sklearn.feature_extraction.text import TfidfTransformer\n",
    "from sklearn.naive_bayes import MultinomialNB"
   ]
  },
  {
   "cell_type": "markdown",
   "metadata": {},
   "source": [
    "## Question 1"
   ]
  },
  {
   "cell_type": "code",
   "execution_count": 58,
   "metadata": {},
   "outputs": [],
   "source": [
    "\n",
    "#Take in data\n",
    "df1 = pd.read_csv('CONcreTEXT_trial_EN.tsv', sep='\\t', header=None, engine= 'python')\n",
    "df2 = pd.read_csv('CONcreTEXT_trial_IT.tsv', sep='\\t', header=None, engine= 'python')\n",
    "\n",
    "\n",
    "df1.at[0, 5] = \"LANGUAGE\"\n",
    "df1[5][1:] = \"English\"\n",
    "df2.at[0, 5] = \"LANGUAGE\"\n",
    "df2[5][1:] = \"Italian\"\n",
    "\n",
    "\n",
    "df = pd.concat([df1,df2])\n",
    "\n"
   ]
  },
  {
   "cell_type": "markdown",
   "metadata": {},
   "source": [
    "## Question 2"
   ]
  },
  {
   "cell_type": "code",
   "execution_count": 29,
   "metadata": {},
   "outputs": [
    {
     "data": {
      "text/plain": [
       "(201, 1330)"
      ]
     },
     "execution_count": 29,
     "metadata": {},
     "output_type": "execute_result"
    }
   ],
   "source": [
    "#Text preprocessing\n",
    "count_vect = CountVectorizer()\n",
    "X_train_counts = count_vect.fit_transform(df[3][1:])\n",
    "\n",
    "\n",
    "tfidf_transformer = TfidfTransformer()\n",
    "X_train_tfidf = tfidf_transformer.fit_transform(X_train_counts)\n",
    "X_train_tfidf.shape"
   ]
  },
  {
   "cell_type": "markdown",
   "metadata": {},
   "source": [
    "## Question 3"
   ]
  },
  {
   "cell_type": "code",
   "execution_count": 36,
   "metadata": {},
   "outputs": [],
   "source": [
    "#Train Naive Bayes Classifier\n",
    "clf = MultinomialNB().fit(X_train_tfidf, df[5][1:])\n"
   ]
  },
  {
   "cell_type": "markdown",
   "metadata": {},
   "source": [
    "## Question 4"
   ]
  },
  {
   "cell_type": "code",
   "execution_count": 40,
   "metadata": {},
   "outputs": [
    {
     "name": "stdout",
     "output_type": "stream",
     "text": [
      "'Why does a rose smell sweet?' => English\n",
      "'Pensa ai tuoi sentimenti di amore.' => Italian\n"
     ]
    }
   ],
   "source": [
    "#Predict new sentences using classifier\n",
    "docs_new = ['Why does a rose smell sweet?', 'Pensa ai tuoi sentimenti di amore.']\n",
    "X_new_counts = count_vect.transform(docs_new)\n",
    "X_new_tfidf = tfidf_transformer.transform(X_new_counts)\n",
    "\n",
    "predicted = clf.predict(X_new_tfidf)\n",
    "\n",
    "for doc, category in zip(docs_new, predicted):\n",
    "    print('%r => %s' % (doc, category))"
   ]
  },
  {
   "cell_type": "markdown",
   "metadata": {},
   "source": [
    "## Question 5"
   ]
  },
  {
   "cell_type": "code",
   "execution_count": 41,
   "metadata": {},
   "outputs": [
    {
     "name": "stdout",
     "output_type": "stream",
     "text": [
      "'Piacere di conoscerti.' => Italian\n",
      "'I would like to eat sushi tomorrow.' => English\n",
      "'C’è un treno alle dieci. Prendo quello.' => Italian\n",
      "'Happy Birthday! Eat lots of cake.' => English\n",
      "\"La semplicità è l'ultima sofisticazione\" => Italian\n"
     ]
    }
   ],
   "source": [
    "#Predict 5 more sentences\n",
    "docs_new2 = [\"Piacere di conoscerti.\", \"I would like to eat sushi tomorrow.\", \n",
    "             \"C’è un treno alle dieci. Prendo quello.\", \"Happy Birthday! Eat lots of cake.\", \n",
    "             \"La semplicità è l'ultima sofisticazione\"]\n",
    "\n",
    "X_new_counts2 = count_vect.transform(docs_new2)\n",
    "X_new_tfidf2 = tfidf_transformer.transform(X_new_counts2)\n",
    "\n",
    "predicted2 = clf.predict(X_new_tfidf2)\n",
    "\n",
    "for doc, category in zip(docs_new2, predicted2):\n",
    "    print('%r => %s' % (doc, category))"
   ]
  },
  {
   "cell_type": "markdown",
   "metadata": {},
   "source": [
    "## Extra Credit"
   ]
  },
  {
   "cell_type": "code",
   "execution_count": 61,
   "metadata": {},
   "outputs": [
    {
     "name": "stdout",
     "output_type": "stream",
     "text": [
      "'Linguine was al dente.' => Italian\n"
     ]
    }
   ],
   "source": [
    "\n",
    "docs_new3 = [\"Linguine was al dente.\"]\n",
    "\n",
    "X_new_counts3 = count_vect.transform(docs_new3)\n",
    "X_new_tfidf3 = tfidf_transformer.transform(X_new_counts3)\n",
    "\n",
    "predicted3 = clf.predict(X_new_tfidf3)\n",
    "\n",
    "for doc, category in zip(docs_new3, predicted3):\n",
    "    print('%r => %s' % (doc, category))"
   ]
  }
 ],
 "metadata": {
  "kernelspec": {
   "display_name": "Python 3",
   "language": "python",
   "name": "python3"
  },
  "language_info": {
   "codemirror_mode": {
    "name": "ipython",
    "version": 3
   },
   "file_extension": ".py",
   "mimetype": "text/x-python",
   "name": "python",
   "nbconvert_exporter": "python",
   "pygments_lexer": "ipython3",
   "version": "3.8.3"
  }
 },
 "nbformat": 4,
 "nbformat_minor": 2
}

{
 "cells": [
  {
   "cell_type": "code",
   "execution_count": 148,
   "metadata": {},
   "outputs": [],
   "source": [
    "#Alexandria Benedict, Assignment 1\n",
    "\n",
    "\n",
    "import nltk\n",
    "import matplotlib.pyplot as plt\n",
    "from nltk.probability import FreqDist\n",
    "import pandas as pd\n",
    "import math"
   ]
  },
  {
   "cell_type": "code",
   "execution_count": 149,
   "metadata": {},
   "outputs": [
    {
     "data": {
      "text/html": [
       "<div>\n",
       "<style scoped>\n",
       "    .dataframe tbody tr th:only-of-type {\n",
       "        vertical-align: middle;\n",
       "    }\n",
       "\n",
       "    .dataframe tbody tr th {\n",
       "        vertical-align: top;\n",
       "    }\n",
       "\n",
       "    .dataframe thead th {\n",
       "        text-align: right;\n",
       "    }\n",
       "</style>\n",
       "<table border=\"1\" class=\"dataframe\">\n",
       "  <thead>\n",
       "    <tr style=\"text-align: right;\">\n",
       "      <th></th>\n",
       "      <th>0</th>\n",
       "      <th>1</th>\n",
       "      <th>2</th>\n",
       "      <th>3</th>\n",
       "      <th>4</th>\n",
       "    </tr>\n",
       "  </thead>\n",
       "  <tbody>\n",
       "    <tr>\n",
       "      <th>0</th>\n",
       "      <td>TARGET</td>\n",
       "      <td>POS</td>\n",
       "      <td>INDEX</td>\n",
       "      <td>TEXT</td>\n",
       "      <td>MEAN</td>\n",
       "    </tr>\n",
       "    <tr>\n",
       "      <th>1</th>\n",
       "      <td>achievement</td>\n",
       "      <td>N</td>\n",
       "      <td>3</td>\n",
       "      <td>Bring up academic achievements , awards , and ...</td>\n",
       "      <td>3.06</td>\n",
       "    </tr>\n",
       "    <tr>\n",
       "      <th>2</th>\n",
       "      <td>achievement</td>\n",
       "      <td>N</td>\n",
       "      <td>9</td>\n",
       "      <td>Please list people you have helped , your pers...</td>\n",
       "      <td>3.03</td>\n",
       "    </tr>\n",
       "    <tr>\n",
       "      <th>3</th>\n",
       "      <td>activate</td>\n",
       "      <td>V</td>\n",
       "      <td>1</td>\n",
       "      <td>Add activated carbon straight to your vodka .</td>\n",
       "      <td>3.83</td>\n",
       "    </tr>\n",
       "    <tr>\n",
       "      <th>4</th>\n",
       "      <td>activate</td>\n",
       "      <td>V</td>\n",
       "      <td>15</td>\n",
       "      <td>Place sensors around your garden , and when a ...</td>\n",
       "      <td>5.51</td>\n",
       "    </tr>\n",
       "  </tbody>\n",
       "</table>\n",
       "</div>"
      ],
      "text/plain": [
       "             0    1      2                                                  3  \\\n",
       "0       TARGET  POS  INDEX                                               TEXT   \n",
       "1  achievement    N      3  Bring up academic achievements , awards , and ...   \n",
       "2  achievement    N      9  Please list people you have helped , your pers...   \n",
       "3     activate    V      1     Add activated carbon straight to your vodka .    \n",
       "4     activate    V     15  Place sensors around your garden , and when a ...   \n",
       "\n",
       "      4  \n",
       "0  MEAN  \n",
       "1  3.06  \n",
       "2  3.03  \n",
       "3  3.83  \n",
       "4  5.51  "
      ]
     },
     "execution_count": 149,
     "metadata": {},
     "output_type": "execute_result"
    }
   ],
   "source": [
    "# Question 1\n",
    "df1 = pd.read_csv('CONcreTEXT_trial_EN.tsv', sep='\\t', header=None, engine= 'python')\n",
    "df2 = pd.read_csv('CONcreTEXT_trial_IT.tsv', sep='\\t', header=None, engine= 'python')\n",
    "df1.head()"
   ]
  },
  {
   "cell_type": "code",
   "execution_count": 150,
   "metadata": {},
   "outputs": [],
   "source": [
    "# Question 2\n",
    "\n",
    "# ENG\n",
    "list1 = []\n",
    "for s in df1[3][1:]:\n",
    "    words = nltk.word_tokenize(s)\n",
    "    list1 += [word.lower() for word in words if word.isalpha()]\n",
    "    \n",
    "# IT\n",
    "list2 = []\n",
    "for s in df2[3][1:]:\n",
    "    words = nltk.word_tokenize(s)\n",
    "    list2 += [word.lower() for word in words if word.isalpha()]\n"
   ]
  },
  {
   "cell_type": "code",
   "execution_count": 151,
   "metadata": {},
   "outputs": [
    {
     "name": "stdout",
     "output_type": "stream",
     "text": [
      "English: 1294\n",
      "Italian: 1303\n"
     ]
    }
   ],
   "source": [
    "# Question 3\n",
    "\n",
    "# ENG\n",
    "count1 = len(list1)\n",
    "\n",
    "# IT\n",
    "count2 = len(list2)\n",
    "    \n",
    "print(\"English: %s\\nItalian: %s\" % (count1, count2))"
   ]
  },
  {
   "cell_type": "code",
   "execution_count": 152,
   "metadata": {},
   "outputs": [
    {
     "name": "stdout",
     "output_type": "stream",
     "text": [
      "English Unique Words:  638\n",
      "Italian Unique Words:  708\n"
     ]
    }
   ],
   "source": [
    "# Question 4\n",
    "\n",
    "# ENG\n",
    "estr = ''\n",
    "for s in list1:\n",
    "    estr += s + ' '\n",
    "    \n",
    "fdist1 = FreqDist()\n",
    "for word in nltk.word_tokenize(estr):\n",
    "    fdist1[word] += 1\n",
    "    \n",
    "print(\"English Unique Words: \" , len(fdist1))\n",
    "#fdist1.most_common(50)\n",
    "\n",
    "# IT\n",
    "istr = ''\n",
    "for s in list2:\n",
    "    istr += s + ' '\n",
    "    \n",
    "fdist2 = FreqDist()\n",
    "for word in nltk.word_tokenize(istr):\n",
    "    fdist2[word] += 1\n",
    "    \n",
    "print(\"Italian Unique Words: \", len(fdist2))\n",
    "#fdist2.most_common(50)"
   ]
  },
  {
   "cell_type": "code",
   "execution_count": 153,
   "metadata": {},
   "outputs": [
    {
     "name": "stdout",
     "output_type": "stream",
     "text": [
      "English:  [[('the', 63), 1, 0.04868624420401855, 0.04868624420401855], [('you', 45), 2, 0.0347758887171561, 0.0695517774343122], [('a', 39), 3, 0.030139103554868624, 0.09041731066460587], [('to', 36), 4, 0.027820710973724884, 0.11128284389489954], [('your', 35), 5, 0.02704791344667697, 0.13523956723338484], [('and', 33), 6, 0.025502318392581144, 0.15301391035548687], [('of', 29), 7, 0.02241112828438949, 0.15687789799072643], [('in', 20), 8, 0.015455950540958269, 0.12364760432766615], [('or', 19), 9, 0.014683153013910355, 0.1321483771251932], [('can', 14), 10, 0.010819165378670788, 0.10819165378670788], [('for', 13), 11, 0.010046367851622875, 0.11051004636785162], [('are', 13), 12, 0.010046367851622875, 0.1205564142194745], [('if', 12), 13, 0.00927357032457496, 0.1205564142194745], [('is', 11), 14, 0.008500772797527048, 0.11901081916537867], [('with', 10), 15, 0.0077279752704791345, 0.11591962905718702], [('that', 9), 16, 0.006955177743431221, 0.11128284389489954], [('will', 9), 17, 0.006955177743431221, 0.11823802163833076], [('when', 8), 18, 0.0061823802163833074, 0.11128284389489954], [('on', 8), 19, 0.0061823802163833074, 0.11746522411128284], [('have', 7), 20, 0.005409582689335394, 0.10819165378670788], [('any', 7), 21, 0.005409582689335394, 0.11360123647604327], [('as', 7), 22, 0.005409582689335394, 0.11901081916537867], [('be', 7), 23, 0.005409582689335394, 0.12442040185471406], [('help', 6), 24, 0.00463678516228748, 0.11128284389489954], [('more', 6), 25, 0.00463678516228748, 0.11591962905718702], [('more', 6), 1, 0.00463678516228748, 0.00463678516228748], [('many', 3), 2, 0.00231839258114374, 0.00463678516228748], [('much', 3), 3, 0.00231839258114374, 0.006955177743431221], [('most', 2), 4, 0.0015455950540958269, 0.0061823802163833074], [('making', 2), 5, 0.0015455950540958269, 0.0077279752704791345], [('make', 2), 6, 0.0015455950540958269, 0.00927357032457496], [('minutes', 2), 7, 0.0015455950540958269, 0.010819165378670788], [('manner', 2), 8, 0.0015455950540958269, 0.012364760432766615], [('movie', 2), 9, 0.0015455950540958269, 0.013910355486862442], [('milestones', 1), 10, 0.0007727975270479134, 0.0077279752704791345], [('motion', 1), 11, 0.0007727975270479134, 0.008500772797527048], [('mystery', 1), 12, 0.0007727975270479134, 0.00927357032457496], [('mile', 1), 13, 0.0007727975270479134, 0.010046367851622875], [('meditation', 1), 14, 0.0007727975270479134, 0.010819165378670788], [('mind', 1), 15, 0.0007727975270479134, 0.011591962905718702], [('monthly', 1), 16, 0.0007727975270479134, 0.012364760432766615], [('mushy', 1), 17, 0.0007727975270479134, 0.013137557959814528], [('medical', 1), 18, 0.0007727975270479134, 0.013910355486862442], [('meals', 1), 19, 0.0007727975270479134, 0.014683153013910355], [('matching', 1), 20, 0.0007727975270479134, 0.015455950540958269], [('machine', 1), 21, 0.0007727975270479134, 0.01622874806800618], [('messages', 1), 22, 0.0007727975270479134, 0.017001545595054096], [('mouse', 1), 23, 0.0007727975270479134, 0.01777434312210201], [('minute', 1), 24, 0.0007727975270479134, 0.01854714064914992], [('mission', 1), 25, 0.0007727975270479134, 0.019319938176197836]]\n",
      "___________________________________________________\n",
      "Italian:  [[('di', 51), 1, 0.039140445126630855, 0.039140445126630855], [('e', 33), 2, 0.02532617037605526, 0.05065234075211052], [('la', 31), 3, 0.023791250959324637, 0.07137375287797391], [('un', 28), 4, 0.021488871834228703, 0.08595548733691481], [('in', 21), 5, 0.016116653875671526, 0.08058326937835764], [('il', 21), 6, 0.016116653875671526, 0.09669992325402915], [('per', 19), 7, 0.014581734458940905, 0.10207214121258634], [('che', 18), 8, 0.013814274750575594, 0.11051419800460476], [('i', 17), 9, 0.013046815042210284, 0.11742133537989255], [('è', 17), 10, 0.013046815042210284, 0.13046815042210283], [('a', 17), 11, 0.013046815042210284, 0.1435149654643131], [('una', 16), 12, 0.012279355333844973, 0.14735226400613968], [('non', 15), 13, 0.011511895625479662, 0.1496546431312356], [('le', 15), 14, 0.011511895625479662, 0.16116653875671527], [('con', 13), 15, 0.009976976208749041, 0.1496546431312356], [('del', 12), 16, 0.00920951650038373, 0.14735226400613968], [('l', 12), 17, 0.00920951650038373, 0.15656178050652342], [('o', 11), 18, 0.00844205679201842, 0.15195702225633156], [('più', 10), 19, 0.007674597083653108, 0.14581734458940904], [('della', 9), 20, 0.006907137375287797, 0.13814274750575595], [('tuo', 8), 21, 0.0061396776669224865, 0.1289332310053722], [('al', 8), 22, 0.0061396776669224865, 0.1350729086722947], [('quando', 8), 23, 0.0061396776669224865, 0.14121258633921718], [('delle', 7), 24, 0.005372217958557176, 0.1289332310053722], [('lo', 7), 25, 0.005372217958557176, 0.1343054489639294], [('mentre', 4), 1, 0.0030698388334612432, 0.0030698388334612432], [('ma', 3), 2, 0.0023023791250959325, 0.004604758250191865], [('modo', 3), 3, 0.0023023791250959325, 0.006907137375287798], [('molto', 3), 4, 0.0023023791250959325, 0.00920951650038373], [('meglio', 2), 5, 0.0015349194167306216, 0.007674597083653108], [('maggior', 2), 6, 0.0015349194167306216, 0.00920951650038373], [('meno', 2), 7, 0.0015349194167306216, 0.010744435917114352], [('moglie', 2), 8, 0.0015349194167306216, 0.012279355333844973], [('motivo', 2), 9, 0.0015349194167306216, 0.013814274750575594], [('mente', 1), 10, 0.0007674597083653108, 0.007674597083653108], [('motociclette', 1), 11, 0.0007674597083653108, 0.00844205679201842], [('mare', 1), 12, 0.0007674597083653108, 0.00920951650038373], [('microscopio', 1), 13, 0.0007674597083653108, 0.009976976208749041], [('molti', 1), 14, 0.0007674597083653108, 0.010744435917114352], [('merito', 1), 15, 0.0007674597083653108, 0.011511895625479662], [('massaggi', 1), 16, 0.0007674597083653108, 0.012279355333844973], [('minuti', 1), 17, 0.0007674597083653108, 0.013046815042210284], [('muscoli', 1), 18, 0.0007674597083653108, 0.013814274750575594], [('miglioriamo', 1), 19, 0.0007674597083653108, 0.014581734458940905], [('meeting', 1), 20, 0.0007674597083653108, 0.015349194167306216], [('migliore', 1), 21, 0.0007674597083653108, 0.016116653875671526], [('massa', 1), 22, 0.0007674597083653108, 0.01688411358403684], [('mettila', 1), 23, 0.0007674597083653108, 0.017651573292402148], [('mercato', 1), 24, 0.0007674597083653108, 0.01841903300076746], [('macchina', 1), 25, 0.0007674597083653108, 0.01918649270913277]]\n"
     ]
    }
   ],
   "source": [
    "# Question 5\n",
    "\n",
    "eng = []\n",
    "dist1 = fdist1.most_common(25)\n",
    "\n",
    "#Get most common starting with M's\n",
    "temp = fdist1.most_common()\n",
    "mlist = []\n",
    "mcounter = 0\n",
    "for s in temp:\n",
    "    if mcounter == 25: break\n",
    "    if s[0][:1] == \"m\":\n",
    "        mcounter += 1\n",
    "        mlist.append(s)\n",
    "\n",
    "\n",
    "# 25 most common\n",
    "rank = 1;\n",
    "for i in dist1:\n",
    "    eng.append([i, rank, fdist1.freq(i[0]), rank*fdist1.freq(i[0])])\n",
    "    rank += 1\n",
    "    \n",
    "# 25 most common with M's\n",
    "mrank = 1;\n",
    "for i in mlist:\n",
    "    eng.append([i, mrank, fdist1.freq(i[0]), mrank*fdist1.freq(i[0])])\n",
    "    mrank += 1\n",
    "    \n",
    "\n",
    "\n",
    "# Italian\n",
    "it = []\n",
    "dist2 = fdist2.most_common(25)\n",
    "\n",
    "#Get most common starting with M's\n",
    "temp2 = fdist2.most_common()\n",
    "mlist2 = []\n",
    "mcounter2 = 0\n",
    "for s in temp2:\n",
    "    if mcounter2 == 25: break\n",
    "    if s[0][:1] == \"m\":\n",
    "        mcounter2 += 1\n",
    "        mlist2.append(s)\n",
    "\n",
    "\n",
    "# 25 most common\n",
    "rank2 = 1;\n",
    "for i in dist2:\n",
    "    it.append([i, rank2, fdist2.freq(i[0]), rank2*fdist2.freq(i[0])])\n",
    "    rank2 += 1\n",
    "    \n",
    "# 25 most common with M's\n",
    "mrank2 = 1;\n",
    "for i in mlist2:\n",
    "    it.append([i, mrank2, fdist2.freq(i[0]), mrank2*fdist2.freq(i[0])])\n",
    "    mrank2 += 1\n",
    "\n",
    "print(\"English: \", eng)\n",
    "print(\"___________________________________________________\")\n",
    "print(\"Italian: \" , it)"
   ]
  },
  {
   "cell_type": "markdown",
   "metadata": {},
   "source": [
    "#### Question 6\n",
    "\n",
    "When looking at the frequencies of the words, they do not follow the pattern of Zipf's Law. According to Zipf's Law, the most frequent word would have a frequency f, second frequent word would be approximately f/2, third most frequent as f/3, and so on. In the English text, the frequency of the first ranked word is .048, second is .034, third .031, and so forth. This does not follow the distribution pattern of Zipf's Law. I think that this happens perhaps because the text being used is not one large body of text or corpus, but rather separate sentences which do not correspond with each other. Although the most frequent word(s) are as expected (words like the, a, you, etc.), other words which portray concepts would not correlate as much as they would in a complete flowing body of text. This would be the same for the Italian text."
   ]
  },
  {
   "cell_type": "code",
   "execution_count": 154,
   "metadata": {},
   "outputs": [
    {
     "data": {
      "image/png": "[encoded data removed]",
      "text/plain": [
       "<Figure size 432x288 with 1 Axes>"
      ]
     },
     "metadata": {
      "needs_background": "light"
     },
     "output_type": "display_data"
    },
    {
     "data": {
      "image/png": "[encoded data removed]",
      "text/plain": [
       "<Figure size 432x288 with 1 Axes>"
      ]
     },
     "metadata": {
      "needs_background": "light"
     },
     "output_type": "display_data"
    },
    {
     "data": {
      "image/png": "[encoded data removed]",
      "text/plain": [
       "<Figure size 432x288 with 1 Axes>"
      ]
     },
     "metadata": {
      "needs_background": "light"
     },
     "output_type": "display_data"
    },
    {
     "data": {
      "image/png": "[encoded data removed]",
      "text/plain": [
       "<Figure size 432x288 with 1 Axes>"
      ]
     },
     "metadata": {
      "needs_background": "light"
     },
     "output_type": "display_data"
    }
   ],
   "source": [
    "# Question 7\n",
    "\n",
    "engFreq = []\n",
    "engRank = []\n",
    "leFreq = []\n",
    "leRank = []\n",
    "\n",
    "count = 0\n",
    "for i in eng:\n",
    "    if count == 25: break\n",
    "    engRank.append(i[1])\n",
    "    engFreq.append(i[2])\n",
    "    leRank.append(math.log(i[1]))\n",
    "    leFreq.append(math.log(i[2]))\n",
    "    count += 1\n",
    "    \n",
    "\n",
    "plt.plot(engRank, engFreq)\n",
    "plt.ylabel(\"Frequency\")\n",
    "plt.xlabel(\"Rank\")\n",
    "plt.title(\"English Frequency vs. Rank\")\n",
    "plt.show()\n",
    "plt.plot(leRank, leFreq)\n",
    "plt.ylabel(\"Log Frequency\")\n",
    "plt.xlabel(\"Log Rank\")\n",
    "plt.title(\"English Log Frequency vs. Log Rank\")\n",
    "plt.show()\n",
    "\n",
    "itFreq = []\n",
    "itRank = []\n",
    "liFreq = []\n",
    "liRank = []\n",
    "\n",
    "count2 = 0\n",
    "for i in it:\n",
    "    if count2 == 25: break\n",
    "    itRank.append(i[1])\n",
    "    itFreq.append(i[2])\n",
    "    liRank.append(math.log(i[1]))\n",
    "    liFreq.append(math.log(i[2]))\n",
    "    count2 += 1\n",
    "    \n",
    "\n",
    "plt.plot(itRank, itFreq)\n",
    "plt.ylabel(\"Frequency\")\n",
    "plt.xlabel(\"Rank\")\n",
    "plt.title(\"Italian Frequency vs. Rank\")\n",
    "plt.show()\n",
    "plt.plot(liRank, liFreq)\n",
    "plt.ylabel(\"Log Frequency\")\n",
    "plt.xlabel(\"Log Rank\")\n",
    "plt.title(\"Italian Log Frequency vs. Log Rank\")\n",
    "plt.show()"
   ]
  }
 ],
 "metadata": {
  "kernelspec": {
   "display_name": "Python 3",
   "language": "python",
   "name": "python3"
  },
  "language_info": {
   "codemirror_mode": {
    "name": "ipython",
    "version": 3
   },
   "file_extension": ".py",
   "mimetype": "text/x-python",
   "name": "python",
   "nbconvert_exporter": "python",
   "pygments_lexer": "ipython3",
   "version": "3.8.3"
  }
 },
 "nbformat": 4,
 "nbformat_minor": 4
}
